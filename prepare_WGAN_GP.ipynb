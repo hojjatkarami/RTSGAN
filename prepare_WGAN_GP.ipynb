{
 "cells": [
  {
   "cell_type": "code",
   "execution_count": 1,
   "metadata": {},
   "outputs": [
    {
     "name": "stderr",
     "output_type": "stream",
     "text": [
      "/opt/conda/envs/paper2022/lib/python3.9/site-packages/tqdm/auto.py:22: TqdmWarning: IProgress not found. Please update jupyter and ipywidgets. See https://ipywidgets.readthedocs.io/en/stable/user_install.html\n",
      "  from .autonotebook import tqdm as notebook_tqdm\n"
     ]
    }
   ],
   "source": [
    "import pickle\n",
    "\n",
    "\n",
    "# activate line execution\n",
    "from IPython.core.interactiveshell import InteractiveShell\n",
    "InteractiveShell.ast_node_interactivity = \"all\"\n",
    "from fastNLP import DataSet, DataSetIter, RandomSampler, SequentialSampler\n",
    "from fastNLP import seq_len_to_mask\n",
    "\n",
    "\n",
    "import torch\n",
    "from torch.utils.data import Dataset, DataLoader\n",
    "import torchvision.transforms as transforms\n",
    "import numpy as np\n",
    "\n"
   ]
  },
  {
   "cell_type": "code",
   "execution_count": 2,
   "metadata": {},
   "outputs": [
    {
     "name": "stderr",
     "output_type": "stream",
     "text": [
      "/opt/conda/envs/paper2022/lib/python3.9/site-packages/sklearn/base.py:288: UserWarning: Trying to unpickle estimator MinMaxScaler from version 1.2.2 when using version 1.2.0. This might lead to breaking code or invalid results. Use at your own risk. For more info please refer to:\n",
      "https://scikit-learn.org/stable/model_persistence.html#security-maintainability-limitations\n",
      "  warnings.warn(\n",
      "/opt/conda/envs/paper2022/lib/python3.9/site-packages/sklearn/base.py:288: UserWarning: Trying to unpickle estimator LabelBinarizer from version 1.2.2 when using version 1.2.0. This might lead to breaking code or invalid results. Use at your own risk. For more info please refer to:\n",
      "https://scikit-learn.org/stable/model_persistence.html#security-maintainability-limitations\n",
      "  warnings.warn(\n"
     ]
    },
    {
     "data": {
      "text/plain": [
       "+---------+-------------+-------------+-------------+-------------+-------------+-------------+-------------+-------+---------------+\n",
       "| seq_len | dyn         | lag         | mask        | sta         | times       | priv        | nex         | label | times_raw     |\n",
       "+---------+-------------+-------------+-------------+-------------+-------------+-------------+-------------+-------+---------------+\n",
       "| 3       | [[0.0, 0... | [[0.0652... | [[0.0, 0... | [0.52   ... | [[0.0652... | [[0.0, 0... | [[0.0, 0... | 0.0   | [3.1333333... |\n",
       "| 23      | [[0.0, 0... | [[0.0145... | [[0.0, 0... | [0.81333... | [[0.0145... | [[0.0, 0... | [[0.0, 0... | 0.0   | [0.7, 1.18... |\n",
       "| 27      | [[0.3953... | [[0.0333... | [[1.0, 1... | [0.38666... | [[0.0333... | [[0.0, 0... | [[0.0, 0... | 0.0   | [1.6, 1.75... |\n",
       "| 7       | [[0.7906... | [[0.0038... | [[1.0, 1... | [0.70666... | [[0.0038... | [[0.0, 0... | [[0.0, 0... | 0.0   | [0.1833333... |\n",
       "| 7       | [[0.0, 0... | [[0.1225... | [[0.0, 0... | [0.97333... | [[0.1225... | [[0.0, 0... | [[0.0, 0... | 0.0   | [5.8833333... |\n",
       "| 28      | [[0.0, 0... | [[0.0756... | [[0.0, 0... | [0.65333... | [[0.0756... | [[0.0, 0... | [[0.0, 0... | 0.0   | [3.6333333... |\n",
       "| 4       | [[0.0, 0... | [[0.0447... | [[0.0, 0... | [0.70666... | [[0.0447... | [[0.0, 0... | [[0.0, 0... | 0.0   | [2.15, 7.1... |\n",
       "| 31      | [[0.0, 0... | [[0.0131... | [[0.0, 0... | [0.84   ... | [[0.0131... | [[0.0, 0... | [[0.0, 0... | 1.0   | [0.6333333... |\n",
       "| 2       | [[0.0, 0... | [[0.3090... | [[0.0, 0... | [0.65333... | [[0.3090... | [[0.0, 0... | [[0.0, 0... | 0.0   | [14.833333... |\n",
       "| 20      | [[0.0, 0... | [[0.0069... | [[0.0, 0... | [0.78666... | [[0.0069... | [[0.0, 0... | [[0.0, 0... | 0.0   | [0.3333333... |\n",
       "| 6       | [[0.3953... | [[0.0621... | [[1.0, 1... | [0.65333... | [[0.0621... | [[0.0, 0... | [[0.0, 0... | 0.0   | [2.9833333... |\n",
       "| 12      | [[0.0, 0... | [[0.0003... | [[0.0, 0... | [0.74666... | [[0.0003... | [[0.0, 0... | [[0.0, 0... | 0.0   | [0.0166666... |\n",
       "| ...     | ...         | ...         | ...         | ...         | ...         | ...         | ...         | ...   | ...           |\n",
       "+---------+-------------+-------------+-------------+-------------+-------------+-------------+-------------+-------+---------------+"
      ]
     },
     "execution_count": 2,
     "metadata": {},
     "output_type": "execute_result"
    },
    {
     "data": {
      "text/plain": [
       "+---------+-------------+-------------+-------------+-------------+-------------+-------------+-------------+-------+---------------+\n",
       "| seq_len | dyn         | lag         | mask        | sta         | times       | priv        | nex         | label | times_raw     |\n",
       "+---------+-------------+-------------+-------------+-------------+-------------+-------------+-------------+-------+---------------+\n",
       "| 3       | [[0.0, 0... | [[0.0652... | [[0.0, 0... | [0.52   ... | [[0.0652... | [[0.0, 0... | [[0.0, 0... | 0.0   | [3.1333333... |\n",
       "| 23      | [[0.0, 0... | [[0.0145... | [[0.0, 0... | [0.81333... | [[0.0145... | [[0.0, 0... | [[0.0, 0... | 0.0   | [0.7, 1.18... |\n",
       "| 27      | [[0.3953... | [[0.0333... | [[1.0, 1... | [0.38666... | [[0.0333... | [[0.0, 0... | [[0.0, 0... | 0.0   | [1.6, 1.75... |\n",
       "| 7       | [[0.7906... | [[0.0038... | [[1.0, 1... | [0.70666... | [[0.0038... | [[0.0, 0... | [[0.0, 0... | 0.0   | [0.1833333... |\n",
       "| 7       | [[0.0, 0... | [[0.1225... | [[0.0, 0... | [0.97333... | [[0.1225... | [[0.0, 0... | [[0.0, 0... | 0.0   | [5.8833333... |\n",
       "| 28      | [[0.0, 0... | [[0.0756... | [[0.0, 0... | [0.65333... | [[0.0756... | [[0.0, 0... | [[0.0, 0... | 0.0   | [3.6333333... |\n",
       "| 4       | [[0.0, 0... | [[0.0447... | [[0.0, 0... | [0.70666... | [[0.0447... | [[0.0, 0... | [[0.0, 0... | 0.0   | [2.15, 7.1... |\n",
       "| 31      | [[0.0, 0... | [[0.0131... | [[0.0, 0... | [0.84   ... | [[0.0131... | [[0.0, 0... | [[0.0, 0... | 1.0   | [0.6333333... |\n",
       "| 2       | [[0.0, 0... | [[0.3090... | [[0.0, 0... | [0.65333... | [[0.3090... | [[0.0, 0... | [[0.0, 0... | 0.0   | [14.833333... |\n",
       "| 20      | [[0.0, 0... | [[0.0069... | [[0.0, 0... | [0.78666... | [[0.0069... | [[0.0, 0... | [[0.0, 0... | 0.0   | [0.3333333... |\n",
       "| 6       | [[0.3953... | [[0.0621... | [[1.0, 1... | [0.65333... | [[0.0621... | [[0.0, 0... | [[0.0, 0... | 0.0   | [2.9833333... |\n",
       "| 12      | [[0.0, 0... | [[0.0003... | [[0.0, 0... | [0.74666... | [[0.0003... | [[0.0, 0... | [[0.0, 0... | 0.0   | [0.0166666... |\n",
       "| ...     | ...         | ...         | ...         | ...         | ...         | ...         | ...         | ...   | ...           |\n",
       "+---------+-------------+-------------+-------------+-------------+-------------+-------------+-------------+-------+---------------+"
      ]
     },
     "execution_count": 2,
     "metadata": {},
     "output_type": "execute_result"
    }
   ],
   "source": [
    "\n",
    "add_physio = \"/mlodata1/hokarami/RTSGAN3/data/physio_data/full2012_v2.pkl\"\n",
    "\n",
    "\n",
    "# open the pickle file\n",
    "with open(add_physio, \"rb\") as f:\n",
    "    dataset = pickle.load(f)\n",
    "\n",
    "train_set = dataset[\"train_set\"]\n",
    "dynamic_processor = dataset[\"dynamic_processor\"]\n",
    "static_processor = dataset[\"static_processor\"]\n",
    "\n",
    "\n",
    "if dataset['train_set'].has_field('dt'):\n",
    "    train_set.set_input(\"dyn\", \"mask\", \"sta\", \"times\", \"lag\",\n",
    "                        \"seq_len\", \"priv\", \"nex\", \"label\", \"dt\")\n",
    "else:\n",
    "    train_set.set_input(\"dyn\", \"mask\", \"sta\", \"times\", \"lag\",\n",
    "                        \"seq_len\", \"priv\", \"nex\", \"label\")\n",
    "\n",
    "if dataset['train_set'].has_field('times_raw'):\n",
    "    train_set.set_input(\"dyn\", \"mask\", \"sta\", \"times\", \"lag\",\n",
    "                        \"seq_len\", \"priv\", \"nex\", \"label\", \"times_raw\")\n"
   ]
  },
  {
   "cell_type": "code",
   "execution_count": 3,
   "metadata": {},
   "outputs": [],
   "source": [
    "\n",
    "def pad_mask(mask, times_raw, seq_len):\n",
    "    last_t = times_raw[np.arange(\n",
    "        seq_len.shape[0]), (seq_len-1).tolist()]\n",
    "    mask2 = torch.zeros(mask.shape[0], int(\n",
    "        max(last_t))+1, mask.shape[2]).to(mask.device)\n",
    "\n",
    "    MAX_LEN = 64\n",
    "    mask2 = torch.zeros(\n",
    "        mask.shape[0], MAX_LEN, mask.shape[2]).to(mask.device)\n",
    "    for i in range(mask2.shape[0]):\n",
    "        # mask2[i, times_raw[i][:seq_len[i]].int().tolist()\n",
    "        #       ] = mask[i, :seq_len[i]]\n",
    "        unique_times = torch.unique(times_raw[i][:seq_len[i]].int())\n",
    "\n",
    "        # this is the biggest index of unique times\n",
    "        lookup_index = torch.cumsum(torch.unique(times_raw[i][:seq_len[i]].int(), return_counts=True)[1],dim=0)-1\n",
    "        \n",
    "        mask2[i, unique_times] = mask[i, lookup_index]\n",
    "        \n",
    "        # check\n",
    "        if not (set(times_raw[i][:seq_len[i]].int().tolist())) == set(torch.nonzero(mask2[i].sum(1)).flatten().tolist()):\n",
    "            aaa=1\n",
    "\n",
    "            # this is the biggest index of unique times\n",
    "            # torch.cumsum(torch.unique(times_raw[i][:seq_len[i]].int(), return_counts=True)[1],dim=0)-1\n",
    "\n",
    "\n",
    "\n",
    "    return mask2\n"
   ]
  },
  {
   "cell_type": "code",
   "execution_count": 11,
   "metadata": {},
   "outputs": [],
   "source": [
    "train_batch = DataSetIter(\n",
    "            dataset=train_set, batch_size=64)\n",
    "all_masks = []\n",
    "all_dyn = []\n",
    "for batch_x, batch_y in train_batch:\n",
    "    sta = batch_x[\"sta\"]\n",
    "    dyn = batch_x[\"dyn\"]\n",
    "    mask = batch_x[\"mask\"]\n",
    "    lag = batch_x[\"lag\"]\n",
    "    priv = batch_x[\"priv\"]\n",
    "    nex = batch_x[\"nex\"]\n",
    "    times = batch_x[\"times\"]\n",
    "    seq_len = batch_x[\"seq_len\"]\n",
    "    if \"dt\" in batch_x:\n",
    "        dt = batch_x[\"dt\"]\n",
    "    if \"times_raw\" in batch_x:\n",
    "        times_raw = batch_x[\"times_raw\"]\n",
    "\n",
    "    mask2 = pad_mask(mask, times_raw, seq_len)\n",
    "    dyn2 = pad_mask(dyn, times_raw, seq_len)\n",
    "    all_masks.append(mask2)\n",
    "    all_dyn.append(dyn2)"
   ]
  },
  {
   "cell_type": "code",
   "execution_count": 12,
   "metadata": {},
   "outputs": [
    {
     "data": {
      "text/plain": [
       "(torch.Size([58, 72, 23]), torch.Size([58, 64, 23]))"
      ]
     },
     "execution_count": 12,
     "metadata": {},
     "output_type": "execute_result"
    },
    {
     "data": {
      "text/plain": [
       "(torch.Size([58, 72, 23]), torch.Size([58, 64, 23]))"
      ]
     },
     "execution_count": 12,
     "metadata": {},
     "output_type": "execute_result"
    },
    {
     "data": {
      "text/plain": [
       "(tensor(0.), tensor(1.), tensor(0.0087), tensor(0.0638))"
      ]
     },
     "execution_count": 12,
     "metadata": {},
     "output_type": "execute_result"
    }
   ],
   "source": [
    "mask.shape, mask2.shape\n",
    "dyn.shape, dyn2.shape\n",
    "dyn2.min(), dyn2.max(), dyn2.mean(), dyn2.std()"
   ]
  },
  {
   "cell_type": "code",
   "execution_count": 14,
   "metadata": {},
   "outputs": [
    {
     "data": {
      "text/plain": [
       "torch.Size([58, 64, 23])"
      ]
     },
     "execution_count": 14,
     "metadata": {},
     "output_type": "execute_result"
    },
    {
     "data": {
      "text/plain": [
       "torch.Size([3578, 64, 23])"
      ]
     },
     "execution_count": 14,
     "metadata": {},
     "output_type": "execute_result"
    },
    {
     "data": {
      "text/plain": [
       "torch.Size([3578, 64, 23])"
      ]
     },
     "execution_count": 14,
     "metadata": {},
     "output_type": "execute_result"
    }
   ],
   "source": [
    "mask2.shape\n",
    "all_masks = torch.cat(all_masks, dim=0)\n",
    "all_dyn = torch.cat(all_dyn, dim=0)\n",
    "\n",
    "all_masks.shape\n",
    "all_dyn.shape"
   ]
  },
  {
   "cell_type": "code",
   "execution_count": 24,
   "metadata": {},
   "outputs": [
    {
     "data": {
      "text/plain": [
       "torch.Size([3578, 64, 23])"
      ]
     },
     "execution_count": 24,
     "metadata": {},
     "output_type": "execute_result"
    }
   ],
   "source": [
    "all_masks.shape"
   ]
  },
  {
   "cell_type": "code",
   "execution_count": 15,
   "metadata": {},
   "outputs": [
    {
     "data": {
      "text/plain": [
       "torch.Size([3578, 64, 64])"
      ]
     },
     "execution_count": 15,
     "metadata": {},
     "output_type": "execute_result"
    },
    {
     "data": {
      "text/plain": [
       "torch.Size([3578, 64, 64])"
      ]
     },
     "execution_count": 15,
     "metadata": {},
     "output_type": "execute_result"
    }
   ],
   "source": [
    "target_dim = 64\n",
    "padding_needed = target_dim - all_masks.shape[-1]\n",
    "\n",
    "all_masks_padded = torch.nn.functional.pad(all_masks, (0, padding_needed))\n",
    "all_dyn_padded = torch.nn.functional.pad(all_dyn, (0, padding_needed))\n",
    "all_masks_padded.shape\n",
    "all_dyn_padded.shape\n",
    "\n"
   ]
  },
  {
   "cell_type": "code",
   "execution_count": 16,
   "metadata": {},
   "outputs": [
    {
     "data": {
      "text/plain": [
       "torch.Size([3578, 2, 64, 64])"
      ]
     },
     "execution_count": 16,
     "metadata": {},
     "output_type": "execute_result"
    }
   ],
   "source": [
    "all_data = torch.stack([all_dyn_padded, all_masks_padded], dim=1)\n",
    "all_data.shape"
   ]
  },
  {
   "cell_type": "code",
   "execution_count": 17,
   "metadata": {},
   "outputs": [],
   "source": [
    "class Physio(Dataset):\n",
    "    def __init__(self, all_data, transform=None):\n",
    "        self.num_samples = all_data.shape[0]\n",
    "        self.transform = transform\n",
    "\n",
    "        # Generate random data\n",
    "        # self.data = torch.rand((num_samples, 28, 28), dtype=torch.float32)\n",
    "        self.data = all_data # num_samples, 64, 8\n",
    "        self.labels = torch.randint(0, 10, (self.num_samples,), dtype=torch.int64)\n",
    "\n",
    "    def __len__(self):\n",
    "        return self.num_samples\n",
    "\n",
    "    def __getitem__(self, idx):\n",
    "        image = self.data[idx]\n",
    "        label = self.labels[idx]\n",
    "\n",
    "        if self.transform:\n",
    "            image = self.transform(image)\n",
    "\n",
    "        return image, label"
   ]
  },
  {
   "cell_type": "code",
   "execution_count": 20,
   "metadata": {},
   "outputs": [],
   "source": [
    "ph = Physio(all_data)"
   ]
  },
  {
   "cell_type": "code",
   "execution_count": 21,
   "metadata": {},
   "outputs": [],
   "source": [
    "\n",
    "# Serialize and save the dataset object using pickle\n",
    "path2save = \"data/physio_data/torch_physio_full.pkl\"\n",
    "with open(path2save, 'wb') as file:\n",
    "    pickle.dump(ph, file)"
   ]
  },
  {
   "cell_type": "code",
   "execution_count": null,
   "metadata": {},
   "outputs": [],
   "source": []
  }
 ],
 "metadata": {
  "kernelspec": {
   "display_name": "paper2022",
   "language": "python",
   "name": "python3"
  },
  "language_info": {
   "codemirror_mode": {
    "name": "ipython",
    "version": 3
   },
   "file_extension": ".py",
   "mimetype": "text/x-python",
   "name": "python",
   "nbconvert_exporter": "python",
   "pygments_lexer": "ipython3",
   "version": "3.9.7"
  },
  "orig_nbformat": 4
 },
 "nbformat": 4,
 "nbformat_minor": 2
}
