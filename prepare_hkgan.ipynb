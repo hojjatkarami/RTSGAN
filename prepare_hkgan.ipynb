{
 "cells": [
  {
   "cell_type": "code",
   "execution_count": 1,
   "metadata": {},
   "outputs": [],
   "source": [
    "# Copyright (c) Microsoft Corporation. All rights reserved.\n",
    "# Licensed under the MIT License."
   ]
  },
  {
   "cell_type": "code",
   "execution_count": 1,
   "metadata": {},
   "outputs": [],
   "source": [
    "# activate line execution\n",
    "from IPython.core.interactiveshell import InteractiveShell\n",
    "InteractiveShell.ast_node_interactivity = \"all\""
   ]
  },
  {
   "cell_type": "code",
   "execution_count": 2,
   "metadata": {},
   "outputs": [],
   "source": [
    "import pandas as pd\n",
    "import os\n",
    "import numpy as np\n",
    "\n",
    "import pickle"
   ]
  },
  {
   "cell_type": "code",
   "execution_count": 3,
   "metadata": {},
   "outputs": [],
   "source": [
    "add = \"../../hkgan/data/synthetic_data_irreg.pkl\"\n",
    "with open(add, \"rb\") as f:\n",
    "    data = pickle.load(f)"
   ]
  },
  {
   "cell_type": "code",
   "execution_count": 4,
   "metadata": {},
   "outputs": [
    {
     "data": {
      "text/plain": [
       "2048"
      ]
     },
     "execution_count": 4,
     "metadata": {},
     "output_type": "execute_result"
    },
    {
     "data": {
      "text/plain": [
       "{'Label': 0}"
      ]
     },
     "execution_count": 4,
     "metadata": {},
     "output_type": "execute_result"
    },
    {
     "data": {
      "text/plain": [
       "{'ts': array([  1,   2,  19,  26,  31,  33,  44,  60,  67,  69,  90, 108, 120,\n",
       "        128, 129, 154, 157, 172, 177, 182, 189, 192, 197, 203, 216, 228,\n",
       "        238, 242, 249, 283, 297, 315, 321, 334, 341, 356, 361, 365, 370,\n",
       "        374, 384, 392, 417, 437, 446, 449, 454, 470, 471, 476, 477, 490,\n",
       "        497, 504, 505, 509, 522, 523, 530, 537, 540, 546, 547, 548, 550,\n",
       "        553, 563, 565, 566, 567, 570, 575, 597, 601, 612, 618, 625, 626,\n",
       "        627, 645, 651, 653, 655, 660, 663, 670, 673, 675, 676, 677, 678,\n",
       "        707, 738, 746, 750, 797]),\n",
       " 'y': array([ 0.01698717,  0.03258652,  0.2632599 ,  0.24637476,  0.24578123,\n",
       "         0.23789759,  0.08092132, -0.15990946, -0.23596531, -0.23150206,\n",
       "        -0.15209517,  0.15020268,  0.2438353 ,  0.26055637,  0.2378904 ,\n",
       "        -0.06364255, -0.10576357, -0.24591492, -0.26489284, -0.2185789 ,\n",
       "        -0.15261352, -0.12440616, -0.04785236,  0.06060479,  0.21190659,\n",
       "         0.25422064,  0.18187132,  0.13055904,  0.02100111, -0.22745051,\n",
       "        -0.03963217,  0.21334292,  0.23828585,  0.21798131,  0.14228536,\n",
       "        -0.11693986, -0.14345488, -0.20259058, -0.24651528, -0.25045158,\n",
       "        -0.22068874, -0.13226954,  0.21986824,  0.19114716,  0.06725569,\n",
       "         0.01137967, -0.05667208, -0.25679796, -0.26155231, -0.25386647,\n",
       "        -0.27184304, -0.14581963, -0.05137789,  0.05949099,  0.08139355,\n",
       "         0.15130415,  0.25858234,  0.27276109,  0.23773138,  0.20565878,\n",
       "         0.16121797,  0.05655181,  0.05465135,  0.0313727 ,  0.00321254,\n",
       "        -0.05042597, -0.19486109, -0.19692598, -0.22042487, -0.21894117,\n",
       "        -0.23327216, -0.24707602, -0.05436736,  0.02334524,  0.16764039,\n",
       "         0.2294579 ,  0.26104462,  0.25767699,  0.2409069 ,  0.08726532,\n",
       "        -0.00996433, -0.03423682, -0.07329427, -0.14325178, -0.2026551 ,\n",
       "        -0.2266752 , -0.25380212, -0.26049491, -0.26021025, -0.26752161,\n",
       "        -0.26306381,  0.12304826,  0.16903245,  0.05992189,  0.01320818,\n",
       "        -0.04944955])}"
      ]
     },
     "execution_count": 4,
     "metadata": {},
     "output_type": "execute_result"
    }
   ],
   "source": [
    "len(data)\n",
    "data[0][-1]\n",
    "data[0][0]"
   ]
  },
  {
   "cell_type": "code",
   "execution_count": 5,
   "metadata": {},
   "outputs": [
    {
     "data": {
      "text/html": [
       "<div>\n",
       "<style scoped>\n",
       "    .dataframe tbody tr th:only-of-type {\n",
       "        vertical-align: middle;\n",
       "    }\n",
       "\n",
       "    .dataframe tbody tr th {\n",
       "        vertical-align: top;\n",
       "    }\n",
       "\n",
       "    .dataframe thead th {\n",
       "        text-align: right;\n",
       "    }\n",
       "</style>\n",
       "<table border=\"1\" class=\"dataframe\">\n",
       "  <thead>\n",
       "    <tr style=\"text-align: right;\">\n",
       "      <th></th>\n",
       "      <th>Label</th>\n",
       "    </tr>\n",
       "  </thead>\n",
       "  <tbody>\n",
       "    <tr>\n",
       "      <th>0</th>\n",
       "      <td>0</td>\n",
       "    </tr>\n",
       "    <tr>\n",
       "      <th>1</th>\n",
       "      <td>0</td>\n",
       "    </tr>\n",
       "    <tr>\n",
       "      <th>2</th>\n",
       "      <td>0</td>\n",
       "    </tr>\n",
       "    <tr>\n",
       "      <th>3</th>\n",
       "      <td>0</td>\n",
       "    </tr>\n",
       "    <tr>\n",
       "      <th>4</th>\n",
       "      <td>0</td>\n",
       "    </tr>\n",
       "    <tr>\n",
       "      <th>...</th>\n",
       "      <td>...</td>\n",
       "    </tr>\n",
       "    <tr>\n",
       "      <th>2043</th>\n",
       "      <td>1</td>\n",
       "    </tr>\n",
       "    <tr>\n",
       "      <th>2044</th>\n",
       "      <td>1</td>\n",
       "    </tr>\n",
       "    <tr>\n",
       "      <th>2045</th>\n",
       "      <td>1</td>\n",
       "    </tr>\n",
       "    <tr>\n",
       "      <th>2046</th>\n",
       "      <td>1</td>\n",
       "    </tr>\n",
       "    <tr>\n",
       "      <th>2047</th>\n",
       "      <td>1</td>\n",
       "    </tr>\n",
       "  </tbody>\n",
       "</table>\n",
       "<p>2048 rows × 1 columns</p>\n",
       "</div>"
      ],
      "text/plain": [
       "      Label\n",
       "0         0\n",
       "1         0\n",
       "2         0\n",
       "3         0\n",
       "4         0\n",
       "...     ...\n",
       "2043      1\n",
       "2044      1\n",
       "2045      1\n",
       "2046      1\n",
       "2047      1\n",
       "\n",
       "[2048 rows x 1 columns]"
      ]
     },
     "execution_count": 5,
     "metadata": {},
     "output_type": "execute_result"
    },
    {
     "data": {
      "text/plain": [
       "1024"
      ]
     },
     "execution_count": 5,
     "metadata": {},
     "output_type": "execute_result"
    }
   ],
   "source": [
    "sta = pd.DataFrame(data=[x[-1] for x in data], columns=[\"Label\"])\n",
    "sta\n",
    "sta.Label.sum()"
   ]
  },
  {
   "cell_type": "code",
   "execution_count": 6,
   "metadata": {},
   "outputs": [],
   "source": [
    "n_samples = len(data)\n",
    "dyn = []\n",
    "for i in range(n_samples):\n",
    "    t1 = data[i][0]['ts']\n",
    "    sig1 = data[i][0]['y']\n",
    "    t2 = data[i][1]['ts']\n",
    "    sig2 = data[i][1]['y']\n",
    "    t= np.concatenate((t1,t2))\n",
    "    sig = np.concatenate((sig1,sig2))\n",
    "    name = np.concatenate((np.repeat('S1',len(t1)),np.repeat('S2',len(t2))))\n",
    "    # t.shape, sig.shape, name.shape\n",
    "    \n",
    "    temp = pd.DataFrame(data={'time':t, 'value':sig,'name':name})\n",
    "    # temp.head()\n",
    "    temp = temp.pivot(index='time', columns='name', values='value').reset_index()\n",
    "    temp.columns.name = None\n",
    "    # temp.head()\n",
    "\n",
    "    dyn.append(temp)\n"
   ]
  },
  {
   "cell_type": "code",
   "execution_count": 7,
   "metadata": {},
   "outputs": [
    {
     "data": {
      "text/plain": [
       "2048"
      ]
     },
     "execution_count": 7,
     "metadata": {},
     "output_type": "execute_result"
    },
    {
     "data": {
      "text/html": [
       "<div>\n",
       "<style scoped>\n",
       "    .dataframe tbody tr th:only-of-type {\n",
       "        vertical-align: middle;\n",
       "    }\n",
       "\n",
       "    .dataframe tbody tr th {\n",
       "        vertical-align: top;\n",
       "    }\n",
       "\n",
       "    .dataframe thead th {\n",
       "        text-align: right;\n",
       "    }\n",
       "</style>\n",
       "<table border=\"1\" class=\"dataframe\">\n",
       "  <thead>\n",
       "    <tr style=\"text-align: right;\">\n",
       "      <th></th>\n",
       "      <th>time</th>\n",
       "      <th>S1</th>\n",
       "      <th>S2</th>\n",
       "    </tr>\n",
       "  </thead>\n",
       "  <tbody>\n",
       "    <tr>\n",
       "      <th>0</th>\n",
       "      <td>1</td>\n",
       "      <td>0.016987</td>\n",
       "      <td>NaN</td>\n",
       "    </tr>\n",
       "    <tr>\n",
       "      <th>1</th>\n",
       "      <td>2</td>\n",
       "      <td>0.032587</td>\n",
       "      <td>NaN</td>\n",
       "    </tr>\n",
       "    <tr>\n",
       "      <th>2</th>\n",
       "      <td>19</td>\n",
       "      <td>0.263260</td>\n",
       "      <td>0.158997</td>\n",
       "    </tr>\n",
       "    <tr>\n",
       "      <th>3</th>\n",
       "      <td>26</td>\n",
       "      <td>0.246375</td>\n",
       "      <td>NaN</td>\n",
       "    </tr>\n",
       "    <tr>\n",
       "      <th>4</th>\n",
       "      <td>31</td>\n",
       "      <td>0.245781</td>\n",
       "      <td>NaN</td>\n",
       "    </tr>\n",
       "    <tr>\n",
       "      <th>...</th>\n",
       "      <td>...</td>\n",
       "      <td>...</td>\n",
       "      <td>...</td>\n",
       "    </tr>\n",
       "    <tr>\n",
       "      <th>124</th>\n",
       "      <td>738</td>\n",
       "      <td>0.169032</td>\n",
       "      <td>-0.224532</td>\n",
       "    </tr>\n",
       "    <tr>\n",
       "      <th>125</th>\n",
       "      <td>746</td>\n",
       "      <td>0.059922</td>\n",
       "      <td>-0.259082</td>\n",
       "    </tr>\n",
       "    <tr>\n",
       "      <th>126</th>\n",
       "      <td>750</td>\n",
       "      <td>0.013208</td>\n",
       "      <td>NaN</td>\n",
       "    </tr>\n",
       "    <tr>\n",
       "      <th>127</th>\n",
       "      <td>751</td>\n",
       "      <td>NaN</td>\n",
       "      <td>-0.259179</td>\n",
       "    </tr>\n",
       "    <tr>\n",
       "      <th>128</th>\n",
       "      <td>797</td>\n",
       "      <td>-0.049450</td>\n",
       "      <td>-0.023381</td>\n",
       "    </tr>\n",
       "  </tbody>\n",
       "</table>\n",
       "<p>129 rows × 3 columns</p>\n",
       "</div>"
      ],
      "text/plain": [
       "     time        S1        S2\n",
       "0       1  0.016987       NaN\n",
       "1       2  0.032587       NaN\n",
       "2      19  0.263260  0.158997\n",
       "3      26  0.246375       NaN\n",
       "4      31  0.245781       NaN\n",
       "..    ...       ...       ...\n",
       "124   738  0.169032 -0.224532\n",
       "125   746  0.059922 -0.259082\n",
       "126   750  0.013208       NaN\n",
       "127   751       NaN -0.259179\n",
       "128   797 -0.049450 -0.023381\n",
       "\n",
       "[129 rows x 3 columns]"
      ]
     },
     "execution_count": 7,
     "metadata": {},
     "output_type": "execute_result"
    }
   ],
   "source": [
    "len(dyn)\n",
    "dyn[0]"
   ]
  },
  {
   "cell_type": "code",
   "execution_count": 8,
   "metadata": {},
   "outputs": [
    {
     "data": {
      "text/plain": [
       "(array([0.        , 0.        , 0.        , 0.        , 0.        ,\n",
       "        0.        , 0.        , 0.        , 0.00012207, 0.00012207,\n",
       "        0.00305176, 0.0111084 , 0.02246094, 0.03173828, 0.03088379,\n",
       "        0.01721191, 0.00585938, 0.00195312, 0.00036621, 0.00012207,\n",
       "        0.        , 0.        , 0.        , 0.        , 0.        ,\n",
       "        0.        , 0.        , 0.        , 0.        , 0.        ,\n",
       "        0.        , 0.        , 0.        , 0.        , 0.        ,\n",
       "        0.        , 0.        , 0.        , 0.        , 0.        ,\n",
       "        0.        , 0.        , 0.        , 0.        , 0.        ,\n",
       "        0.        , 0.        , 0.        , 0.        , 0.        ]),\n",
       " array([  0.,   8.,  16.,  24.,  32.,  40.,  48.,  56.,  64.,  72.,  80.,\n",
       "         88.,  96., 104., 112., 120., 128., 136., 144., 152., 160., 168.,\n",
       "        176., 184., 192., 200., 208., 216., 224., 232., 240., 248., 256.,\n",
       "        264., 272., 280., 288., 296., 304., 312., 320., 328., 336., 344.,\n",
       "        352., 360., 368., 376., 384., 392., 400.]),\n",
       " <BarContainer object of 50 artists>)"
      ]
     },
     "execution_count": 8,
     "metadata": {},
     "output_type": "execute_result"
    },
    {
     "data": {
      "image/png": "[encoded data removed]",
      "text/plain": [
       "<Figure size 640x480 with 1 Axes>"
      ]
     },
     "metadata": {},
     "output_type": "display_data"
    }
   ],
   "source": [
    "sta_types = ['binary',\"int\"]\n",
    "dyn_types = ['continuous']*len(dyn[0].columns)\n",
    "dynamics = pd.concat(dyn)\n",
    "seq_len = [len(x) for x in dyn]\n",
    "sta[\"seq_len\"]=np.array(seq_len)\n",
    "\n",
    "%matplotlib inline\n",
    "import matplotlib.pyplot as plt\n",
    "plt.hist(seq_len, range=(0,400), bins=50, density=True)\n",
    "plt.show()"
   ]
  },
  {
   "cell_type": "code",
   "execution_count": 16,
   "metadata": {},
   "outputs": [
    {
     "data": {
      "text/plain": [
       "array([0.4400284 , 0.42192423], dtype=float32)"
      ]
     },
     "execution_count": 16,
     "metadata": {},
     "output_type": "execute_result"
    }
   ],
   "source": [
    "d_P.transform(dyn[0])[0].std(axis=0)"
   ]
  },
  {
   "cell_type": "code",
   "execution_count": 10,
   "metadata": {},
   "outputs": [
    {
     "name": "stdout",
     "output_type": "stream",
     "text": [
      "all values are integer\n",
      "time 1 None int None\n",
      "IGNORE\n",
      "S1 1 0.2527850633474105 continuous None\n",
      "IGNORE\n",
      "S2 1 0.38065347855078907 continuous None\n",
      "IGNORE\n",
      "Label 1 None binary None\n",
      "seq_len 1 None int None\n",
      "IGNORE\n"
     ]
    }
   ],
   "source": [
    "from general.missingprocessor import Processor\n",
    "d_P = Processor(dyn_types, use_pri='time')\n",
    "s_P = Processor(sta_types)\n",
    "d_P.fit(dynamics)\n",
    "s_P.fit(sta)"
   ]
  },
  {
   "cell_type": "code",
   "execution_count": 17,
   "metadata": {},
   "outputs": [],
   "source": [
    "def build_dataset(sta, dyn, seq_len):\n",
    "    s = s_P.transform(sta)\n",
    "    d_lis=[d_P.transform(ds) for ds in dyn]\n",
    "    d = [x[0].tolist() for x in d_lis]\n",
    "    lag = [x[1].tolist() for x in d_lis]\n",
    "    mask = [x[2].tolist() for x in d_lis]\n",
    "    times = [x[-1].tolist() for x in d_lis]\n",
    "    priv = [x[3].tolist() for x in d_lis]\n",
    "    nex = [x[4].tolist() for x in d_lis]\n",
    "    label = [float(x[-2]) for x in s] \n",
    "    from fastNLP import DataSet\n",
    "    dataset = DataSet({\"seq_len\": seq_len, \n",
    "                       \"dyn\": d, \"lag\":lag, \"mask\": mask,\n",
    "                       \"sta\": s, \"times\":times, \"priv\":priv, \"nex\":nex, \"label\": label\n",
    "                      })\n",
    "    return dataset\n",
    "\n",
    "dataset = build_dataset(sta, dyn, seq_len)"
   ]
  },
  {
   "cell_type": "code",
   "execution_count": 18,
   "metadata": {},
   "outputs": [
    {
     "data": {
      "text/plain": [
       "+---------+--------------+--------------+--------------+--------------+--------------+--------------+--------------+-------+\n",
       "| seq_len | dyn          | lag          | mask         | sta          | times        | priv         | nex          | label |\n",
       "+---------+--------------+--------------+--------------+--------------+--------------+--------------+--------------+-------+\n",
       "| 129     | [[0.04994... | [[-1.7191... | [[1.0, 0.... | [0.      ... | [[-1.7191... | [[0.0, 0.... | [[0.0, 0.... | 0.0   |\n",
       "| 97      | [[0.71085... | [[-1.5588... | [[1.0, 1.... | [ 0.     ... | [[-1.5588... | [[0.0, 0.... | [[0.0, 0.... | 0.0   |\n",
       "| 101     | [[0.0, 0.... | [[-1.6368... | [[0.0, 1.... | [ 0.     ... | [[-1.6368... | [[0.0, 0.... | [[0.0, 0.... | 0.0   |\n",
       "| 101     | [[0.72751... | [[-1.6758... | [[1.0, 0.... | [ 0.     ... | [[-1.6758... | [[0.0, 0.... | [[0.0, 0.... | 0.0   |\n",
       "| 95      | [[0.28242... | [[-1.7061... | [[1.0, 1.... | [ 0.     ... | [[-1.7061... | [[0.0, 0.... | [[0.0, 0.... | 0.0   |\n",
       "| 126     | [[0.04072... | [[-1.7191... | [[1.0, 1.... | [0.      ... | [[-1.7191... | [[0.0, 0.... | [[0.0, 0.... | 0.0   |\n",
       "| 117     | [[0.09732... | [[-1.7191... | [[1.0, 0.... | [0.      ... | [[-1.7191... | [[0.0, 0.... | [[0.0, 0.... | 0.0   |\n",
       "| 115     | [[0.23453... | [[-1.7104... | [[1.0, 0.... | [0.      ... | [[-1.7104... | [[0.0, 0.... | [[0.0, 0.... | 0.0   |\n",
       "| 97      | [[0.00176... | [[-1.7234... | [[1.0, 0.... | [ 0.     ... | [[-1.7234... | [[0.0, 0.... | [[0.0, 0.... | 0.0   |\n",
       "| 110     | [[0.25502... | [[-1.7061... | [[1.0, 1.... | [0.      ... | [[-1.7061... | [[0.0, 0.... | [[0.0, 0.... | 0.0   |\n",
       "| 109     | [[0.12022... | [[-1.7147... | [[1.0, 1.... | [ 0.     ... | [[-1.7147... | [[0.0, 0.... | [[0.0, 0.... | 0.0   |\n",
       "| 99      | [[1.31428... | [[-1.6281... | [[1.0, 1.... | [ 0.     ... | [[-1.6281... | [[0.0, 0.... | [[0.0, 0.... | 0.0   |\n",
       "| ...     | ...          | ...          | ...          | ...          | ...          | ...          | ...          | ...   |\n",
       "+---------+--------------+--------------+--------------+--------------+--------------+--------------+--------------+-------+"
      ]
     },
     "execution_count": 18,
     "metadata": {},
     "output_type": "execute_result"
    }
   ],
   "source": [
    "dataset"
   ]
  },
  {
   "cell_type": "code",
   "execution_count": 19,
   "metadata": {},
   "outputs": [],
   "source": [
    "test_sta, test_dyn = sta, dyn\n",
    "test_seq_len = [len(x) for x in test_dyn]\n",
    "test_sta[\"seq_len\"]=np.array(test_seq_len)\n",
    "val_set = build_dataset(test_sta, test_dyn, test_seq_len)"
   ]
  },
  {
   "cell_type": "code",
   "execution_count": 11,
   "metadata": {},
   "outputs": [],
   "source": [
    "finaldic = {\n",
    "    \"train_set\": dataset,\n",
    "    'raw_set': (sta,dyn),\n",
    "    'test_set': (test_sta,test_dyn),\n",
    "    'val_set': val_set,\n",
    "    \"dynamic_processor\": d_P,\n",
    "    \"static_processor\":s_P\n",
    "}\n",
    "import pickle\n",
    "from utils.general import make_sure_path_exists\n",
    "make_sure_path_exists(\"./data/hkgan/\")\n",
    "with open(\"./data/physio_data/sine_irreg.pkl\", \"wb\") as f:\n",
    "    pickle.dump(finaldic, f)\n"
   ]
  }
 ],
 "metadata": {
  "kernelspec": {
   "display_name": "Python 3",
   "language": "python",
   "name": "python3"
  },
  "language_info": {
   "codemirror_mode": {
    "name": "ipython",
    "version": 3
   },
   "file_extension": ".py",
   "mimetype": "text/x-python",
   "name": "python",
   "nbconvert_exporter": "python",
   "pygments_lexer": "ipython3",
   "version": "3.9.7"
  }
 },
 "nbformat": 4,
 "nbformat_minor": 2
}
