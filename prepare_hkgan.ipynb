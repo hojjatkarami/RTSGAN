{
 "cells": [
  {
   "cell_type": "code",
   "execution_count": 1,
   "metadata": {},
   "outputs": [],
   "source": [
    "# Copyright (c) Microsoft Corporation. All rights reserved.\n",
    "# Licensed under the MIT License."
   ]
  },
  {
   "cell_type": "code",
   "execution_count": 1,
   "metadata": {},
   "outputs": [],
   "source": [
    "# activate line execution\n",
    "from IPython.core.interactiveshell import InteractiveShell\n",
    "InteractiveShell.ast_node_interactivity = \"all\""
   ]
  },
  {
   "cell_type": "code",
   "execution_count": 2,
   "metadata": {},
   "outputs": [],
   "source": [
    "import pandas as pd\n",
    "import os\n",
    "import numpy as np\n",
    "\n",
    "import pickle"
   ]
  },
  {
   "cell_type": "code",
   "execution_count": 3,
   "metadata": {},
   "outputs": [],
   "source": [
    "add = \"../../hkgan/data/synthetic_data.pkl\"\n",
    "with open(add, \"rb\") as f:\n",
    "    data = pickle.load(f)"
   ]
  },
  {
   "cell_type": "code",
   "execution_count": 4,
   "metadata": {},
   "outputs": [
    {
     "data": {
      "text/plain": [
       "2048"
      ]
     },
     "execution_count": 4,
     "metadata": {},
     "output_type": "execute_result"
    },
    {
     "data": {
      "text/plain": [
       "{'Label': 0}"
      ]
     },
     "execution_count": 4,
     "metadata": {},
     "output_type": "execute_result"
    },
    {
     "data": {
      "text/plain": [
       "{'ts': array([ 12,  31,  47,  74,  91,  93, 109, 112, 120, 130, 131, 134, 135,\n",
       "        145, 153, 171, 172, 199, 205, 206, 211, 218, 222, 223, 226, 232,\n",
       "        236, 237, 238, 257, 272, 274, 283, 286, 289, 291, 306, 307, 309,\n",
       "        327, 335, 370, 390, 401, 415, 421, 422, 427, 431, 439, 471, 478,\n",
       "        485, 487, 522, 523, 524, 531, 541, 544, 545, 546, 547, 548, 560,\n",
       "        593, 594, 598, 606, 609, 622, 637, 643, 667, 672, 693, 694, 695,\n",
       "        707, 709, 737, 758, 760, 765, 791]),\n",
       " 'y': array([ 0.27187548,  0.35895889,  0.08259013, -0.41126742, -0.20912402,\n",
       "        -0.17816355,  0.22223521,  0.27517667,  0.38499074,  0.37717732,\n",
       "         0.37573792,  0.33670126,  0.32935787,  0.1185938 , -0.08244946,\n",
       "        -0.39481008, -0.39156102,  0.0052703 ,  0.108093  ,  0.16291101,\n",
       "         0.25334775,  0.37631775,  0.39211726,  0.40812232,  0.3954142 ,\n",
       "         0.34872976,  0.30937217,  0.29320348,  0.26919929, -0.16682025,\n",
       "        -0.38707878, -0.40546029, -0.34776534, -0.3141696 , -0.24696682,\n",
       "        -0.22256127,  0.15217018,  0.16104697,  0.21457993,  0.4158131 ,\n",
       "         0.31683722, -0.37316766, -0.23400395,  0.03013869,  0.3150842 ,\n",
       "         0.37384121,  0.39028659,  0.39430796,  0.38547762,  0.25180607,\n",
       "        -0.40027276, -0.4113016 , -0.31414095, -0.29939664,  0.39797887,\n",
       "         0.42105699,  0.40388761,  0.37640114,  0.2038669 ,  0.13908628,\n",
       "         0.13454638,  0.09997451,  0.07306789,  0.04993911, -0.26006316,\n",
       "        -0.18751666, -0.14801326, -0.03706896,  0.13761419,  0.23511073,\n",
       "         0.39409462,  0.28060379,  0.1757552 , -0.33393689, -0.40542205,\n",
       "        -0.16531757, -0.15214777, -0.14193289,  0.16131011,  0.23424256,\n",
       "         0.2892832 , -0.19762084, -0.23505104, -0.32925244, -0.22427428])}"
      ]
     },
     "execution_count": 4,
     "metadata": {},
     "output_type": "execute_result"
    }
   ],
   "source": [
    "len(data)\n",
    "data[0][-1]\n",
    "data[0][0]"
   ]
  },
  {
   "cell_type": "code",
   "execution_count": 5,
   "metadata": {},
   "outputs": [
    {
     "data": {
      "text/html": [
       "<div>\n",
       "<style scoped>\n",
       "    .dataframe tbody tr th:only-of-type {\n",
       "        vertical-align: middle;\n",
       "    }\n",
       "\n",
       "    .dataframe tbody tr th {\n",
       "        vertical-align: top;\n",
       "    }\n",
       "\n",
       "    .dataframe thead th {\n",
       "        text-align: right;\n",
       "    }\n",
       "</style>\n",
       "<table border=\"1\" class=\"dataframe\">\n",
       "  <thead>\n",
       "    <tr style=\"text-align: right;\">\n",
       "      <th></th>\n",
       "      <th>Label</th>\n",
       "    </tr>\n",
       "  </thead>\n",
       "  <tbody>\n",
       "    <tr>\n",
       "      <th>0</th>\n",
       "      <td>0</td>\n",
       "    </tr>\n",
       "    <tr>\n",
       "      <th>1</th>\n",
       "      <td>0</td>\n",
       "    </tr>\n",
       "    <tr>\n",
       "      <th>2</th>\n",
       "      <td>0</td>\n",
       "    </tr>\n",
       "    <tr>\n",
       "      <th>3</th>\n",
       "      <td>0</td>\n",
       "    </tr>\n",
       "    <tr>\n",
       "      <th>4</th>\n",
       "      <td>0</td>\n",
       "    </tr>\n",
       "    <tr>\n",
       "      <th>...</th>\n",
       "      <td>...</td>\n",
       "    </tr>\n",
       "    <tr>\n",
       "      <th>2043</th>\n",
       "      <td>1</td>\n",
       "    </tr>\n",
       "    <tr>\n",
       "      <th>2044</th>\n",
       "      <td>1</td>\n",
       "    </tr>\n",
       "    <tr>\n",
       "      <th>2045</th>\n",
       "      <td>1</td>\n",
       "    </tr>\n",
       "    <tr>\n",
       "      <th>2046</th>\n",
       "      <td>1</td>\n",
       "    </tr>\n",
       "    <tr>\n",
       "      <th>2047</th>\n",
       "      <td>1</td>\n",
       "    </tr>\n",
       "  </tbody>\n",
       "</table>\n",
       "<p>2048 rows × 1 columns</p>\n",
       "</div>"
      ],
      "text/plain": [
       "      Label\n",
       "0         0\n",
       "1         0\n",
       "2         0\n",
       "3         0\n",
       "4         0\n",
       "...     ...\n",
       "2043      1\n",
       "2044      1\n",
       "2045      1\n",
       "2046      1\n",
       "2047      1\n",
       "\n",
       "[2048 rows x 1 columns]"
      ]
     },
     "execution_count": 5,
     "metadata": {},
     "output_type": "execute_result"
    },
    {
     "data": {
      "text/plain": [
       "1024"
      ]
     },
     "execution_count": 5,
     "metadata": {},
     "output_type": "execute_result"
    }
   ],
   "source": [
    "sta = pd.DataFrame(data=[x[-1] for x in data], columns=[\"Label\"])\n",
    "sta\n",
    "sta.Label.sum()"
   ]
  },
  {
   "cell_type": "code",
   "execution_count": 6,
   "metadata": {},
   "outputs": [],
   "source": [
    "n_samples = len(data)\n",
    "dyn = []\n",
    "for i in range(n_samples):\n",
    "    t1 = data[i][0]['ts']\n",
    "    sig1 = data[i][0]['y']\n",
    "    t2 = data[i][1]['ts']\n",
    "    sig2 = data[i][1]['y']\n",
    "    t= np.concatenate((t1,t2))\n",
    "    sig = np.concatenate((sig1,sig2))\n",
    "    name = np.concatenate((np.repeat('S1',len(t1)),np.repeat('S2',len(t2))))\n",
    "    # t.shape, sig.shape, name.shape\n",
    "    \n",
    "    temp = pd.DataFrame(data={'time':t, 'value':sig,'name':name})\n",
    "    # temp.head()\n",
    "    temp = temp.pivot(index='time', columns='name', values='value').reset_index()\n",
    "    temp.columns.name = None\n",
    "    # temp.head()\n",
    "\n",
    "    dyn.append(temp)\n"
   ]
  },
  {
   "cell_type": "code",
   "execution_count": 7,
   "metadata": {},
   "outputs": [
    {
     "data": {
      "text/plain": [
       "(array([0.        , 0.        , 0.        , 0.        , 0.        ,\n",
       "        0.        , 0.        , 0.        , 0.        , 0.00036621,\n",
       "        0.00305176, 0.01220703, 0.02404785, 0.03027344, 0.0300293 ,\n",
       "        0.01647949, 0.00720215, 0.00097656, 0.00036621, 0.        ,\n",
       "        0.        , 0.        , 0.        , 0.        , 0.        ,\n",
       "        0.        , 0.        , 0.        , 0.        , 0.        ,\n",
       "        0.        , 0.        , 0.        , 0.        , 0.        ,\n",
       "        0.        , 0.        , 0.        , 0.        , 0.        ,\n",
       "        0.        , 0.        , 0.        , 0.        , 0.        ,\n",
       "        0.        , 0.        , 0.        , 0.        , 0.        ]),\n",
       " array([  0.,   8.,  16.,  24.,  32.,  40.,  48.,  56.,  64.,  72.,  80.,\n",
       "         88.,  96., 104., 112., 120., 128., 136., 144., 152., 160., 168.,\n",
       "        176., 184., 192., 200., 208., 216., 224., 232., 240., 248., 256.,\n",
       "        264., 272., 280., 288., 296., 304., 312., 320., 328., 336., 344.,\n",
       "        352., 360., 368., 376., 384., 392., 400.]),\n",
       " <BarContainer object of 50 artists>)"
      ]
     },
     "execution_count": 7,
     "metadata": {},
     "output_type": "execute_result"
    },
    {
     "data": {
      "image/png": "[encoded data removed]",
      "text/plain": [
       "<Figure size 640x480 with 1 Axes>"
      ]
     },
     "metadata": {},
     "output_type": "display_data"
    }
   ],
   "source": [
    "sta_types = ['binary',\"int\"]\n",
    "dyn_types = ['continuous']*len(dyn[0].columns)\n",
    "dynamics = pd.concat(dyn)\n",
    "seq_len = [len(x) for x in dyn]\n",
    "sta[\"seq_len\"]=np.array(seq_len)\n",
    "\n",
    "%matplotlib inline\n",
    "import matplotlib.pyplot as plt\n",
    "plt.hist(seq_len, range=(0,400), bins=50, density=True)\n",
    "plt.show()"
   ]
  },
  {
   "cell_type": "code",
   "execution_count": 8,
   "metadata": {},
   "outputs": [
    {
     "name": "stdout",
     "output_type": "stream",
     "text": [
      "all values are integer\n",
      "time 1 None int None\n",
      "[799.] [0.]\n",
      "S1 1 0.25492644894245264 continuous None\n",
      "[0.78452213] [-0.79296112]\n",
      "S2 1 0.3814485410217754 continuous None\n",
      "[0.78926947] [-0.79873162]\n",
      "Label 1 None binary None\n",
      "seq_len 1 None int None\n",
      "[150.] [77.]\n"
     ]
    }
   ],
   "source": [
    "from general.missingprocessor import Processor\n",
    "d_P = Processor(dyn_types, use_pri='time')\n",
    "s_P = Processor(sta_types)\n",
    "d_P.fit(dynamics)\n",
    "s_P.fit(sta)"
   ]
  },
  {
   "cell_type": "code",
   "execution_count": 9,
   "metadata": {},
   "outputs": [],
   "source": [
    "def build_dataset(sta, dyn, seq_len):\n",
    "    s = s_P.transform(sta)\n",
    "    d_lis=[d_P.transform(ds) for ds in dyn]\n",
    "    d = [x[0].tolist() for x in d_lis]\n",
    "    lag = [x[1].tolist() for x in d_lis]\n",
    "    mask = [x[2].tolist() for x in d_lis]\n",
    "    times = [x[-1].tolist() for x in d_lis]\n",
    "    priv = [x[3].tolist() for x in d_lis]\n",
    "    nex = [x[4].tolist() for x in d_lis]\n",
    "    label = [float(x[-2]) for x in s] \n",
    "    from fastNLP import DataSet\n",
    "    dataset = DataSet({\"seq_len\": seq_len, \n",
    "                       \"dyn\": d, \"lag\":lag, \"mask\": mask,\n",
    "                       \"sta\": s, \"times\":times, \"priv\":priv, \"nex\":nex, \"label\": label\n",
    "                      })\n",
    "    return dataset\n",
    "\n",
    "dataset = build_dataset(sta, dyn, seq_len)"
   ]
  },
  {
   "cell_type": "code",
   "execution_count": 10,
   "metadata": {},
   "outputs": [],
   "source": [
    "test_sta, test_dyn = sta, dyn\n",
    "test_seq_len = [len(x) for x in test_dyn]\n",
    "test_sta[\"seq_len\"]=np.array(test_seq_len)\n",
    "val_set = build_dataset(test_sta, test_dyn, test_seq_len)"
   ]
  },
  {
   "cell_type": "code",
   "execution_count": 11,
   "metadata": {},
   "outputs": [],
   "source": [
    "finaldic = {\n",
    "    \"train_set\": dataset,\n",
    "    'raw_set': (sta,dyn),\n",
    "    'test_set': (test_sta,test_dyn),\n",
    "    'val_set': val_set,\n",
    "    \"dynamic_processor\": d_P,\n",
    "    \"static_processor\":s_P\n",
    "}\n",
    "import pickle\n",
    "from utils.general import make_sure_path_exists\n",
    "make_sure_path_exists(\"./data/hkgan/\")\n",
    "with open(\"./data/physio_data/syn2.pkl\", \"wb\") as f:\n",
    "    pickle.dump(finaldic, f)\n"
   ]
  }
 ],
 "metadata": {
  "kernelspec": {
   "display_name": "Python 3",
   "language": "python",
   "name": "python3"
  },
  "language_info": {
   "codemirror_mode": {
    "name": "ipython",
    "version": 3
   },
   "file_extension": ".py",
   "mimetype": "text/x-python",
   "name": "python",
   "nbconvert_exporter": "python",
   "pygments_lexer": "ipython3",
   "version": "3.9.7"
  }
 },
 "nbformat": 4,
 "nbformat_minor": 2
}
