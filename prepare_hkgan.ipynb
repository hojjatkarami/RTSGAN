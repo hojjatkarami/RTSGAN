{
 "cells": [
  {
   "cell_type": "code",
   "execution_count": 1,
   "metadata": {},
   "outputs": [],
   "source": [
    "# Copyright (c) Microsoft Corporation. All rights reserved.\n",
    "# Licensed under the MIT License."
   ]
  },
  {
   "cell_type": "code",
   "execution_count": 2,
   "metadata": {},
   "outputs": [],
   "source": [
    "# activate line execution\n",
    "from IPython.core.interactiveshell import InteractiveShell\n",
    "InteractiveShell.ast_node_interactivity = \"all\""
   ]
  },
  {
   "cell_type": "code",
   "execution_count": 3,
   "metadata": {},
   "outputs": [],
   "source": [
    "import pandas as pd\n",
    "import os\n",
    "import numpy as np\n",
    "\n",
    "import pickle"
   ]
  },
  {
   "cell_type": "code",
   "execution_count": 4,
   "metadata": {},
   "outputs": [],
   "source": [
    "add = \"../../hkgan/data/synthetic_data.pkl\"\n",
    "with open(add, \"rb\") as f:\n",
    "    data = pickle.load(f)"
   ]
  },
  {
   "cell_type": "code",
   "execution_count": 5,
   "metadata": {},
   "outputs": [
    {
     "data": {
      "text/plain": [
       "2048"
      ]
     },
     "execution_count": 5,
     "metadata": {},
     "output_type": "execute_result"
    },
    {
     "data": {
      "text/plain": [
       "{'Label': 0}"
      ]
     },
     "execution_count": 5,
     "metadata": {},
     "output_type": "execute_result"
    },
    {
     "data": {
      "text/plain": [
       "{'ts': array([  0,  10,  63,  67,  71, 118, 119, 121, 134, 140, 175, 212, 277,\n",
       "        278, 303, 314, 333, 389, 397, 413, 452, 456, 481, 482, 492, 598,\n",
       "        616, 640, 641, 664, 666, 667, 675, 683, 698, 714, 721, 733, 764,\n",
       "        799]),\n",
       " 'y': array([-0.00709017,  0.23320267, -0.29929433, -0.36495048, -0.38894967,\n",
       "         0.35695164,  0.37828778,  0.39382868,  0.33874527,  0.23744729,\n",
       "        -0.41394964,  0.2926767 , -0.40901016, -0.38831317,  0.07895346,\n",
       "         0.32541823,  0.36382077, -0.24704158, -0.08343616,  0.29769741,\n",
       "        -0.04554196, -0.1487143 , -0.36852123, -0.36709126, -0.18586428,\n",
       "        -0.05227188,  0.33631601,  0.23152098,  0.2117516 , -0.29668094,\n",
       "        -0.33838817, -0.36400653, -0.41185312, -0.3508113 , -0.05217149,\n",
       "         0.31098232,  0.38845811,  0.35586555, -0.30678714, -0.0343076 ])}"
      ]
     },
     "execution_count": 5,
     "metadata": {},
     "output_type": "execute_result"
    }
   ],
   "source": [
    "len(data)\n",
    "data[0][-1]\n",
    "data[0][0]"
   ]
  },
  {
   "cell_type": "code",
   "execution_count": 6,
   "metadata": {},
   "outputs": [
    {
     "data": {
      "text/html": [
       "<div>\n",
       "<style scoped>\n",
       "    .dataframe tbody tr th:only-of-type {\n",
       "        vertical-align: middle;\n",
       "    }\n",
       "\n",
       "    .dataframe tbody tr th {\n",
       "        vertical-align: top;\n",
       "    }\n",
       "\n",
       "    .dataframe thead th {\n",
       "        text-align: right;\n",
       "    }\n",
       "</style>\n",
       "<table border=\"1\" class=\"dataframe\">\n",
       "  <thead>\n",
       "    <tr style=\"text-align: right;\">\n",
       "      <th></th>\n",
       "      <th>Label</th>\n",
       "    </tr>\n",
       "  </thead>\n",
       "  <tbody>\n",
       "    <tr>\n",
       "      <th>0</th>\n",
       "      <td>0</td>\n",
       "    </tr>\n",
       "    <tr>\n",
       "      <th>1</th>\n",
       "      <td>0</td>\n",
       "    </tr>\n",
       "    <tr>\n",
       "      <th>2</th>\n",
       "      <td>0</td>\n",
       "    </tr>\n",
       "    <tr>\n",
       "      <th>3</th>\n",
       "      <td>0</td>\n",
       "    </tr>\n",
       "    <tr>\n",
       "      <th>4</th>\n",
       "      <td>0</td>\n",
       "    </tr>\n",
       "    <tr>\n",
       "      <th>...</th>\n",
       "      <td>...</td>\n",
       "    </tr>\n",
       "    <tr>\n",
       "      <th>2043</th>\n",
       "      <td>1</td>\n",
       "    </tr>\n",
       "    <tr>\n",
       "      <th>2044</th>\n",
       "      <td>1</td>\n",
       "    </tr>\n",
       "    <tr>\n",
       "      <th>2045</th>\n",
       "      <td>1</td>\n",
       "    </tr>\n",
       "    <tr>\n",
       "      <th>2046</th>\n",
       "      <td>1</td>\n",
       "    </tr>\n",
       "    <tr>\n",
       "      <th>2047</th>\n",
       "      <td>1</td>\n",
       "    </tr>\n",
       "  </tbody>\n",
       "</table>\n",
       "<p>2048 rows × 1 columns</p>\n",
       "</div>"
      ],
      "text/plain": [
       "      Label\n",
       "0         0\n",
       "1         0\n",
       "2         0\n",
       "3         0\n",
       "4         0\n",
       "...     ...\n",
       "2043      1\n",
       "2044      1\n",
       "2045      1\n",
       "2046      1\n",
       "2047      1\n",
       "\n",
       "[2048 rows x 1 columns]"
      ]
     },
     "execution_count": 6,
     "metadata": {},
     "output_type": "execute_result"
    },
    {
     "data": {
      "text/plain": [
       "1024"
      ]
     },
     "execution_count": 6,
     "metadata": {},
     "output_type": "execute_result"
    }
   ],
   "source": [
    "sta = pd.DataFrame(data=[x[-1] for x in data], columns=[\"Label\"])\n",
    "sta\n",
    "sta.Label.sum()"
   ]
  },
  {
   "cell_type": "code",
   "execution_count": 7,
   "metadata": {},
   "outputs": [],
   "source": [
    "n_samples = len(data)\n",
    "dyn = []\n",
    "for i in range(n_samples):\n",
    "    t1 = data[i][0]['ts']\n",
    "    sig1 = data[i][0]['y']\n",
    "    t2 = data[i][1]['ts']\n",
    "    sig2 = data[i][1]['y']\n",
    "    t= np.concatenate((t1,t2))\n",
    "    sig = np.concatenate((sig1,sig2))\n",
    "    name = np.concatenate((np.repeat('S1',len(t1)),np.repeat('S2',len(t2))))\n",
    "    # t.shape, sig.shape, name.shape\n",
    "    \n",
    "    temp = pd.DataFrame(data={'time':t, 'value':sig,'name':name})\n",
    "    # temp.head()\n",
    "    temp = temp.pivot(index='time', columns='name', values='value').reset_index()\n",
    "    temp.columns.name = None\n",
    "    # temp.head()\n",
    "\n",
    "    dyn.append(temp)\n"
   ]
  },
  {
   "cell_type": "code",
   "execution_count": 15,
   "metadata": {},
   "outputs": [
    {
     "data": {
      "text/plain": [
       "(array([0.        , 0.        , 0.        , 0.00061035, 0.00561523,\n",
       "        0.02587891, 0.04064941, 0.03503418, 0.01330566, 0.00341797,\n",
       "        0.00036621, 0.00012207, 0.        , 0.        , 0.        ,\n",
       "        0.        , 0.        , 0.        , 0.        , 0.        ,\n",
       "        0.        , 0.        , 0.        , 0.        , 0.        ,\n",
       "        0.        , 0.        , 0.        , 0.        , 0.        ,\n",
       "        0.        , 0.        , 0.        , 0.        , 0.        ,\n",
       "        0.        , 0.        , 0.        , 0.        , 0.        ,\n",
       "        0.        , 0.        , 0.        , 0.        , 0.        ,\n",
       "        0.        , 0.        , 0.        , 0.        , 0.        ]),\n",
       " array([  0.,   8.,  16.,  24.,  32.,  40.,  48.,  56.,  64.,  72.,  80.,\n",
       "         88.,  96., 104., 112., 120., 128., 136., 144., 152., 160., 168.,\n",
       "        176., 184., 192., 200., 208., 216., 224., 232., 240., 248., 256.,\n",
       "        264., 272., 280., 288., 296., 304., 312., 320., 328., 336., 344.,\n",
       "        352., 360., 368., 376., 384., 392., 400.]),\n",
       " <BarContainer object of 50 artists>)"
      ]
     },
     "execution_count": 15,
     "metadata": {},
     "output_type": "execute_result"
    },
    {
     "data": {
      "image/png": "[encoded data removed]",
      "text/plain": [
       "<Figure size 640x480 with 1 Axes>"
      ]
     },
     "metadata": {},
     "output_type": "display_data"
    }
   ],
   "source": [
    "sta_types = ['binary',\"int\"]\n",
    "dyn_types = ['continuous']*len(dyn[0].columns)\n",
    "dynamics = pd.concat(dyn)\n",
    "seq_len = [len(x) for x in dyn]\n",
    "sta[\"seq_len\"]=np.array(seq_len)\n",
    "\n",
    "%matplotlib inline\n",
    "import matplotlib.pyplot as plt\n",
    "plt.hist(seq_len, range=(0,400), bins=50, density=True)\n",
    "plt.show()"
   ]
  },
  {
   "cell_type": "code",
   "execution_count": 16,
   "metadata": {},
   "outputs": [
    {
     "name": "stdout",
     "output_type": "stream",
     "text": [
      "all values are integer\n",
      "time 1 None int None\n",
      "[799.] [0.]\n",
      "S1 1 0.21762541017784948 continuous None\n",
      "[0.7749369] [-0.78766416]\n",
      "S2 1 0.4159248717344404 continuous None\n",
      "[0.78745987] [-0.7764434]\n",
      "Label 1 None binary None\n",
      "seq_len 1 None int None\n",
      "[95.] [29.]\n"
     ]
    }
   ],
   "source": [
    "from general.missingprocessor import Processor\n",
    "d_P = Processor(dyn_types, use_pri='time')\n",
    "s_P = Processor(sta_types)\n",
    "d_P.fit(dynamics)\n",
    "s_P.fit(sta)"
   ]
  },
  {
   "cell_type": "code",
   "execution_count": 17,
   "metadata": {},
   "outputs": [],
   "source": [
    "def build_dataset(sta, dyn, seq_len):\n",
    "    s = s_P.transform(sta)\n",
    "    d_lis=[d_P.transform(ds) for ds in dyn]\n",
    "    d = [x[0].tolist() for x in d_lis]\n",
    "    lag = [x[1].tolist() for x in d_lis]\n",
    "    mask = [x[2].tolist() for x in d_lis]\n",
    "    times = [x[-1].tolist() for x in d_lis]\n",
    "    priv = [x[3].tolist() for x in d_lis]\n",
    "    nex = [x[4].tolist() for x in d_lis]\n",
    "    label = [float(x[-2]) for x in s] \n",
    "    from fastNLP import DataSet\n",
    "    dataset = DataSet({\"seq_len\": seq_len, \n",
    "                       \"dyn\": d, \"lag\":lag, \"mask\": mask,\n",
    "                       \"sta\": s, \"times\":times, \"priv\":priv, \"nex\":nex, \"label\": label\n",
    "                      })\n",
    "    return dataset\n",
    "\n",
    "dataset = build_dataset(sta, dyn, seq_len)"
   ]
  },
  {
   "cell_type": "code",
   "execution_count": 18,
   "metadata": {},
   "outputs": [],
   "source": [
    "test_sta, test_dyn = sta, dyn\n",
    "test_seq_len = [len(x) for x in test_dyn]\n",
    "test_sta[\"seq_len\"]=np.array(test_seq_len)\n",
    "val_set = build_dataset(test_sta, test_dyn, test_seq_len)"
   ]
  },
  {
   "cell_type": "code",
   "execution_count": 19,
   "metadata": {},
   "outputs": [],
   "source": [
    "finaldic = {\n",
    "    \"train_set\": dataset,\n",
    "    'raw_set': (sta,dyn),\n",
    "    'test_set': (test_sta,test_dyn),\n",
    "    'val_set': val_set,\n",
    "    \"dynamic_processor\": d_P,\n",
    "    \"static_processor\":s_P\n",
    "}\n",
    "import pickle\n",
    "from utils.general import make_sure_path_exists\n",
    "make_sure_path_exists(\"./data/hkgan/\")\n",
    "with open(\"./data/physio_data/syn1.pkl\", \"wb\") as f:\n",
    "    pickle.dump(finaldic, f)\n"
   ]
  }
 ],
 "metadata": {
  "kernelspec": {
   "display_name": "Python 3",
   "language": "python",
   "name": "python3"
  },
  "language_info": {
   "codemirror_mode": {
    "name": "ipython",
    "version": 3
   },
   "file_extension": ".py",
   "mimetype": "text/x-python",
   "name": "python",
   "nbconvert_exporter": "python",
   "pygments_lexer": "ipython3",
   "version": "3.9.7"
  }
 },
 "nbformat": 4,
 "nbformat_minor": 2
}
