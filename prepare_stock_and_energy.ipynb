{
 "cells": [
  {
   "cell_type": "code",
   "execution_count": 15,
   "metadata": {},
   "outputs": [],
   "source": [
    "# Copyright (c) Microsoft Corporation. All rights reserved.\n",
    "# Licensed under the MIT License."
   ]
  },
  {
   "cell_type": "code",
   "execution_count": 1,
   "metadata": {},
   "outputs": [
    {
     "name": "stdout",
     "output_type": "stream",
     "text": [
      "Open 1 None continuous\n",
      "High 1 None continuous\n",
      "Low 1 None continuous\n",
      "Close 1 None continuous\n",
      "Adj_Close 1 None continuous\n",
      "Volume 1 None continuous\n",
      "6 3661\n"
     ]
    }
   ],
   "source": [
    "import numpy as np\n",
    "import pandas as pd \n",
    "from stock_energy.missingprocessor import Processor\n",
    "import pickle\n",
    "\n",
    "data_path = \"./TimeGAN/data\"\n",
    "loc = \"stock\"\n",
    "seq_len = 24\n",
    "df = pd.read_csv('{}/{}_data.csv'.format(data_path,loc), sep = \",\") # [n_data*n_seq, n_feature]\n",
    "types = [\"continuous\" for i in range(len(df.columns))] # [n_feature]\n",
    "\n",
    "P = Processor(types)\n",
    "# Flip the data to make chronological data\n",
    "ori_data = P.fit_transform(df)\n",
    "ori_data = ori_data[::-1]\n",
    "\n",
    "temp_data = [ori_data[i:i + seq_len] for i in range(0, len(ori_data) - seq_len)]  # [(n_data-n_seq) * [n_seq * n_feature]]]   \n",
    "\n",
    "from fastNLP import DataSet\n",
    "dataset = DataSet({\"seq_len\": [seq_len] * len(temp_data), \"dyn\": temp_data, \"sta\":[0]*len(temp_data)})\n",
    "dic = {\n",
    "    \"train_set\": dataset,\n",
    "    \"dynamic_processor\": P,\n",
    "    \"static_processor\": Processor([])\n",
    "}\n",
    "print(P.dim, len(temp_data))\n",
    "from utils.general import make_sure_path_exists\n",
    "make_sure_path_exists(\"./data\")\n",
    "with open(\"./data/{}.pkl\".format(loc), \"wb\") as f:\n",
    "    pickle.dump(dic, f)"
   ]
  },
  {
   "cell_type": "markdown",
   "metadata": {},
   "source": [
    "# prepare sine normal from COSCI-GAN"
   ]
  },
  {
   "cell_type": "code",
   "execution_count": 31,
   "metadata": {},
   "outputs": [
    {
     "data": {
      "text/plain": [
       "(1638400, 2)"
      ]
     },
     "execution_count": 31,
     "metadata": {},
     "output_type": "execute_result"
    }
   ],
   "source": [
    "# df.shape\n",
    "\n",
    "ori_data.shape"
   ]
  },
  {
   "cell_type": "code",
   "execution_count": 40,
   "metadata": {},
   "outputs": [
    {
     "name": "stdout",
     "output_type": "stream",
     "text": [
      "0 1 None continuous\n",
      "1 1 None continuous\n",
      "2 2048\n"
     ]
    }
   ],
   "source": [
    "import numpy as np\n",
    "import pandas as pd \n",
    "from stock_energy.missingprocessor import Processor\n",
    "import pickle\n",
    "\n",
    "data_path = \"../COSCI-GAN/Dataset/\"\n",
    "loc = \"data_frame_sine_normal.pkl\"\n",
    "seq_len = 800\n",
    "\n",
    "\n",
    "\n",
    "with open(data_path+loc, \"rb\") as f:\n",
    "    data = pickle.load(f).iloc[:, :-1].values # [n_samples, seq_len * n_features]\n",
    "data2 = np.stack([data[:,:seq_len].flatten(), data[:,seq_len:].flatten()], axis=1) # [n_samples* seq_len , n_features]\n",
    "\n",
    "# DEBUG\n",
    "# print(data.shape)\n",
    "# print(data[0,:20])\n",
    "# print(data[0,800:820])\n",
    "\n",
    "# data2.shape\n",
    "# data2[:20,:]\n",
    "\n",
    "\n",
    "df = pd.DataFrame(data2)\n",
    "types = [\"continuous\" for i in range(len(df.columns))] # [n_feature]\n",
    "P = Processor(types)\n",
    "\n",
    "# Flip the data to make chronological data\n",
    "ori_data = P.fit_transform(df)\n",
    "# ori_data = ori_data[::-1]\n",
    "# print(ori_data[:5,:])\n",
    "# temp_data = [ori_data[i:i + seq_len] for i in range(0, len(ori_data) - seq_len)]  \n",
    "\n",
    "\n",
    "temp_data = [ori_data[i:i + seq_len] for i in range(0, len(ori_data),seq_len)] # [(n_data-n_seq) * [n_seq * n_feature]]]   \n",
    "\n",
    "# DEBUG\n",
    "# a = [i for i in range(0, len(ori_data),seq_len)]\n",
    "# len(ori_data), a[:5], a[-5:]\n",
    "# len(temp_data), temp_data[0].shape\n",
    "# temp_data[0][:5]\n",
    "\n",
    "\n",
    "from fastNLP import DataSet\n",
    "dataset = DataSet({\"seq_len\": [seq_len] * len(temp_data), \"dyn\": temp_data, \"sta\":[0]*len(temp_data)})\n",
    "dic = {\n",
    "    \"train_set\": dataset,\n",
    "    \"dynamic_processor\": P,\n",
    "    \"static_processor\": Processor([])\n",
    "}\n",
    "print(P.dim, len(temp_data))\n",
    "from utils.general import make_sure_path_exists\n",
    "make_sure_path_exists(\"./data\")\n",
    "with open(\"./data/{}\".format(loc), \"wb\") as f:\n",
    "    pickle.dump(dic, f)\n"
   ]
  },
  {
   "cell_type": "code",
   "execution_count": 6,
   "metadata": {},
   "outputs": [
    {
     "data": {
      "text/html": [
       "<div>\n",
       "<style scoped>\n",
       "    .dataframe tbody tr th:only-of-type {\n",
       "        vertical-align: middle;\n",
       "    }\n",
       "\n",
       "    .dataframe tbody tr th {\n",
       "        vertical-align: top;\n",
       "    }\n",
       "\n",
       "    .dataframe thead th {\n",
       "        text-align: right;\n",
       "    }\n",
       "</style>\n",
       "<table border=\"1\" class=\"dataframe\">\n",
       "  <thead>\n",
       "    <tr style=\"text-align: right;\">\n",
       "      <th></th>\n",
       "      <th>0</th>\n",
       "      <th>1</th>\n",
       "    </tr>\n",
       "  </thead>\n",
       "  <tbody>\n",
       "    <tr>\n",
       "      <th>0</th>\n",
       "      <td>0.009921</td>\n",
       "      <td>-0.006527</td>\n",
       "    </tr>\n",
       "    <tr>\n",
       "      <th>1</th>\n",
       "      <td>0.016796</td>\n",
       "      <td>0.055657</td>\n",
       "    </tr>\n",
       "    <tr>\n",
       "      <th>2</th>\n",
       "      <td>0.031008</td>\n",
       "      <td>0.052118</td>\n",
       "    </tr>\n",
       "    <tr>\n",
       "      <th>3</th>\n",
       "      <td>0.085705</td>\n",
       "      <td>0.005514</td>\n",
       "    </tr>\n",
       "    <tr>\n",
       "      <th>4</th>\n",
       "      <td>0.087636</td>\n",
       "      <td>0.042896</td>\n",
       "    </tr>\n",
       "    <tr>\n",
       "      <th>...</th>\n",
       "      <td>...</td>\n",
       "      <td>...</td>\n",
       "    </tr>\n",
       "    <tr>\n",
       "      <th>1638395</th>\n",
       "      <td>-0.264044</td>\n",
       "      <td>-0.122797</td>\n",
       "    </tr>\n",
       "    <tr>\n",
       "      <th>1638396</th>\n",
       "      <td>-0.266196</td>\n",
       "      <td>-0.058850</td>\n",
       "    </tr>\n",
       "    <tr>\n",
       "      <th>1638397</th>\n",
       "      <td>-0.166331</td>\n",
       "      <td>-0.032074</td>\n",
       "    </tr>\n",
       "    <tr>\n",
       "      <th>1638398</th>\n",
       "      <td>-0.027071</td>\n",
       "      <td>0.044650</td>\n",
       "    </tr>\n",
       "    <tr>\n",
       "      <th>1638399</th>\n",
       "      <td>-0.078723</td>\n",
       "      <td>0.029370</td>\n",
       "    </tr>\n",
       "  </tbody>\n",
       "</table>\n",
       "<p>1638400 rows × 2 columns</p>\n",
       "</div>"
      ],
      "text/plain": [
       "                0         1\n",
       "0        0.009921 -0.006527\n",
       "1        0.016796  0.055657\n",
       "2        0.031008  0.052118\n",
       "3        0.085705  0.005514\n",
       "4        0.087636  0.042896\n",
       "...           ...       ...\n",
       "1638395 -0.264044 -0.122797\n",
       "1638396 -0.266196 -0.058850\n",
       "1638397 -0.166331 -0.032074\n",
       "1638398 -0.027071  0.044650\n",
       "1638399 -0.078723  0.029370\n",
       "\n",
       "[1638400 rows x 2 columns]"
      ]
     },
     "execution_count": 6,
     "metadata": {},
     "output_type": "execute_result"
    }
   ],
   "source": [
    "df"
   ]
  },
  {
   "cell_type": "code",
   "execution_count": 7,
   "metadata": {},
   "outputs": [],
   "source": []
  },
  {
   "cell_type": "code",
   "execution_count": 13,
   "metadata": {},
   "outputs": [
    {
     "data": {
      "text/html": [
       "<div>\n",
       "<style scoped>\n",
       "    .dataframe tbody tr th:only-of-type {\n",
       "        vertical-align: middle;\n",
       "    }\n",
       "\n",
       "    .dataframe tbody tr th {\n",
       "        vertical-align: top;\n",
       "    }\n",
       "\n",
       "    .dataframe thead th {\n",
       "        text-align: right;\n",
       "    }\n",
       "</style>\n",
       "<table border=\"1\" class=\"dataframe\">\n",
       "  <thead>\n",
       "    <tr style=\"text-align: right;\">\n",
       "      <th></th>\n",
       "      <th>S1</th>\n",
       "      <th>S2</th>\n",
       "    </tr>\n",
       "  </thead>\n",
       "  <tbody>\n",
       "    <tr>\n",
       "      <th>0</th>\n",
       "      <td>0.000708</td>\n",
       "      <td>-0.019887</td>\n",
       "    </tr>\n",
       "    <tr>\n",
       "      <th>1</th>\n",
       "      <td>0.003141</td>\n",
       "      <td>-0.005375</td>\n",
       "    </tr>\n",
       "    <tr>\n",
       "      <th>2</th>\n",
       "      <td>0.049556</td>\n",
       "      <td>0.007001</td>\n",
       "    </tr>\n",
       "    <tr>\n",
       "      <th>3</th>\n",
       "      <td>0.084764</td>\n",
       "      <td>0.014357</td>\n",
       "    </tr>\n",
       "    <tr>\n",
       "      <th>4</th>\n",
       "      <td>0.100740</td>\n",
       "      <td>0.016740</td>\n",
       "    </tr>\n",
       "    <tr>\n",
       "      <th>...</th>\n",
       "      <td>...</td>\n",
       "      <td>...</td>\n",
       "    </tr>\n",
       "    <tr>\n",
       "      <th>1638395</th>\n",
       "      <td>-0.209874</td>\n",
       "      <td>-0.369169</td>\n",
       "    </tr>\n",
       "    <tr>\n",
       "      <th>1638396</th>\n",
       "      <td>-0.155295</td>\n",
       "      <td>-0.353251</td>\n",
       "    </tr>\n",
       "    <tr>\n",
       "      <th>1638397</th>\n",
       "      <td>-0.127806</td>\n",
       "      <td>-0.378651</td>\n",
       "    </tr>\n",
       "    <tr>\n",
       "      <th>1638398</th>\n",
       "      <td>-0.089392</td>\n",
       "      <td>-0.384577</td>\n",
       "    </tr>\n",
       "    <tr>\n",
       "      <th>1638399</th>\n",
       "      <td>-0.050640</td>\n",
       "      <td>-0.392041</td>\n",
       "    </tr>\n",
       "  </tbody>\n",
       "</table>\n",
       "<p>1638400 rows × 2 columns</p>\n",
       "</div>"
      ],
      "text/plain": [
       "               S1        S2\n",
       "0        0.000708 -0.019887\n",
       "1        0.003141 -0.005375\n",
       "2        0.049556  0.007001\n",
       "3        0.084764  0.014357\n",
       "4        0.100740  0.016740\n",
       "...           ...       ...\n",
       "1638395 -0.209874 -0.369169\n",
       "1638396 -0.155295 -0.353251\n",
       "1638397 -0.127806 -0.378651\n",
       "1638398 -0.089392 -0.384577\n",
       "1638399 -0.050640 -0.392041\n",
       "\n",
       "[1638400 rows x 2 columns]"
      ]
     },
     "execution_count": 13,
     "metadata": {},
     "output_type": "execute_result"
    }
   ],
   "source": [
    "len(data)\n",
    "data[0][0]['y']\n",
    "\n",
    "\n",
    "df"
   ]
  },
  {
   "cell_type": "code",
   "execution_count": 7,
   "metadata": {},
   "outputs": [],
   "source": [
    "import numpy as np\n",
    "import pandas as pd \n",
    "from stock_energy.missingprocessor import Processor\n",
    "import pickle\n",
    "\n",
    "data_path = \"../../COSCI-GAN/Dataset/\"\n",
    "loc = \"data_frame_sine_normal.pkl\"\n",
    "seq_len = 800\n",
    "\n",
    "\n",
    "\n",
    "add = \"../../hkgan/data/synthetic_data_reg.pkl\"\n",
    "with open(add, \"rb\") as f:\n",
    "    data = pickle.load(f)\n",
    "\n",
    "\n",
    "sig1 = np.concatenate([x[0]['y'] for x in data])\n",
    "sig2 = np.concatenate([x[1]['y'] for x in data])\n",
    "df = pd.DataFrame({'S1': sig1, 'S2': sig2})\n",
    "\n"
   ]
  },
  {
   "cell_type": "code",
   "execution_count": 8,
   "metadata": {},
   "outputs": [
    {
     "data": {
      "text/plain": [
       "(-0.02519291949934052,\n",
       " 0.7939869708091364,\n",
       " -1.5130419629767502,\n",
       " 1.1796331887428628)"
      ]
     },
     "execution_count": 8,
     "metadata": {},
     "output_type": "execute_result"
    }
   ],
   "source": [
    "temp_data[0].mean(), temp_data[0].std(), temp_data[0].min(), temp_data[0].max()\n"
   ]
  },
  {
   "cell_type": "code",
   "execution_count": 9,
   "metadata": {},
   "outputs": [
    {
     "name": "stdout",
     "output_type": "stream",
     "text": [
      "S1 1 None continuous\n",
      "S2 1 None continuous\n",
      "2 2048\n"
     ]
    }
   ],
   "source": [
    "\n",
    "\n",
    "types = [\"continuous\" for i in range(len(df.columns))] # [n_feature]\n",
    "P = Processor(types)\n",
    "\n",
    "# Flip the data to make chronological data\n",
    "ori_data = P.fit_transform(df)\n",
    "# ori_data = ori_data[::-1]\n",
    "# print(ori_data[:5,:])\n",
    "# temp_data = [ori_data[i:i + seq_len] for i in range(0, len(ori_data) - seq_len)]  \n",
    "\n",
    "\n",
    "temp_data = [ori_data[i:i + seq_len] for i in range(0, len(ori_data),seq_len)] # [(n_data-n_seq) * [n_seq * n_feature]]]   \n",
    "\n",
    "# DEBUG\n",
    "# a = [i for i in range(0, len(ori_data),seq_len)]\n",
    "# len(ori_data), a[:5], a[-5:]\n",
    "# len(temp_data), temp_data[0].shape\n",
    "# temp_data[0][:5]\n",
    "\n",
    "\n",
    "from fastNLP import DataSet\n",
    "dataset = DataSet({\"seq_len\": [seq_len] * len(temp_data), \"dyn\": temp_data, \"sta\":[0]*len(temp_data)})\n",
    "dic = {\n",
    "    \"train_set\": dataset,\n",
    "    \"dynamic_processor\": P,\n",
    "    \"static_processor\": Processor([])\n",
    "}\n",
    "print(P.dim, len(temp_data))\n",
    "from utils.general import make_sure_path_exists\n",
    "make_sure_path_exists(\"./data\")\n",
    "with open(\"./data/{}\".format(loc), \"wb\") as f:\n",
    "    pickle.dump(dic, f)\n"
   ]
  },
  {
   "cell_type": "code",
   "execution_count": 5,
   "metadata": {},
   "outputs": [
    {
     "data": {
      "text/plain": [
       "'./data/data_frame_sine_normal.pkl'"
      ]
     },
     "execution_count": 5,
     "metadata": {},
     "output_type": "execute_result"
    }
   ],
   "source": [
    "\"./data/{}\".format(loc)"
   ]
  }
 ],
 "metadata": {
  "kernelspec": {
   "display_name": "Python 3",
   "language": "python",
   "name": "python3"
  },
  "language_info": {
   "codemirror_mode": {
    "name": "ipython",
    "version": 3
   },
   "file_extension": ".py",
   "mimetype": "text/x-python",
   "name": "python",
   "nbconvert_exporter": "python",
   "pygments_lexer": "ipython3",
   "version": "3.9.7"
  }
 },
 "nbformat": 4,
 "nbformat_minor": 4
}
